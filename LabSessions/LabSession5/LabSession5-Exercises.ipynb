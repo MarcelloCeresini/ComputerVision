{
 "cells": [
  {
   "cell_type": "markdown",
   "metadata": {},
   "source": [
    "# Video Streams\n",
    "## Computer Vision and Image Processing - Lab Session 5 - Exercises\n",
    "### Prof: Luigi Di Stefano, luigi.distefano@unibo.it\n",
    "### Tutor: Pierluigi Zama Ramirez, pierluigi.zama@unibo.it - Riccardo Spezialetti, riccardo.spezialetti@unibo.it"
   ]
  },
  {
   "cell_type": "markdown",
   "metadata": {},
   "source": [
    "## Exercise 0: Distance Functions between images\n",
    "\n",
    "Define three functions to calculate the $L_1$, $L_2$ and $L_{\\infty}$ distances between two images."
   ]
  },
  {
   "cell_type": "code",
   "execution_count": 7,
   "metadata": {},
   "outputs": [],
   "source": [
    "# Write your solution here\n",
    "import cv2\n",
    "from matplotlib import pyplot as plt\n",
    "import numpy as np\n",
    "from IPython.display import clear_output\n",
    "\n",
    "def get_img_difference(img1, img2, p):\n",
    "    if img1.shape[-1]==3 and len(img1.shape)==3:\n",
    "        RGB = True\n",
    "    else:\n",
    "        RGB = False\n",
    "\n",
    "    if p==1:\n",
    "        diff = np.abs(img1-img2)\n",
    "        if RGB:\n",
    "            diff = np.sum(diff, axis=-1)\n",
    "\n",
    "    elif p==2:\n",
    "        diff = (img1-img2)**2\n",
    "        if RGB:\n",
    "            diff = np.sum(diff, axis=-1)\n",
    "        diff = np.sqrt(diff)\n",
    "    \n",
    "    elif p==np.inf:\n",
    "        diff = np.abs(img1-img2)\n",
    "        if RGB:\n",
    "            diff = np.max(diff, axis=-1)\n",
    "    \n",
    "    else:\n",
    "        raise NotImplementedError(\"The value {} is not an accepted distance: accepted distances are {1, 2, np.inf}\".format(p))\n",
    "\n",
    "    return diff\n"
   ]
  },
  {
   "cell_type": "markdown",
   "metadata": {},
   "source": [
    "## Exercise 1: Two Frame Difference\n",
    "\n",
    "Calculate a Two Frame Difference over frames of a video to detect motion changes. Try different distance functions and visualize results. Test it on \"ex/1.avi\"."
   ]
  },
  {
   "cell_type": "code",
   "execution_count": 33,
   "metadata": {},
   "outputs": [
    {
     "name": "stdout",
     "output_type": "stream",
     "text": [
      "Released Video Resource\n"
     ]
    },
    {
     "data": {
      "image/png": "[encoded data removed]",
      "text/plain": [
       "<Figure size 1000x500 with 1 Axes>"
      ]
     },
     "metadata": {},
     "output_type": "display_data"
    }
   ],
   "source": [
    "# Write your solution here\n",
    "# Put the code in try-except statements catch the keyboard exception and release the camera device and \n",
    "# continue with the rest of code.\n",
    "\n",
    "def display_mask_and_change_image(mask, img):\n",
    "    img_copy = img.copy()\n",
    "    img_copy[np.logical_not(mask)] = np.asarray([255,255,255])\n",
    "\n",
    "    mask = np.uint8(mask)*255\n",
    "\n",
    "    plt.figure(figsize=(10,5))\n",
    "    plt.subplot(1,2,1)\n",
    "    plt.axis('off')\n",
    "    plt.imshow(mask, cmap='gray', vmin=0, vmax=255)\n",
    "\n",
    "    plt.subplot(1,2,2)\n",
    "    plt.axis('off')\n",
    "    plt.imshow(cv2.cvtColor(img_copy.astype(np.uint8), cv2.COLOR_BGR2RGB))\n",
    "    plt.show()\n",
    "\n",
    "\n",
    "def two_frame_difference_mask(img1, img2, distance, threshold):\n",
    "    diff_img = get_img_difference(img1, img2, distance)\n",
    "    mask = diff_img > threshold\n",
    "    return mask\n",
    "\n",
    "\n",
    "def play_mask_and_image_two_frames(video_path, distance, threshold):\n",
    "    cap = cv2.VideoCapture(video_path)\n",
    "    idx = 0\n",
    "    try:\n",
    "        while(cap.isOpened()):\n",
    "            ret, frame = cap.read()\n",
    "            if ret and not frame is None:\n",
    "                if idx == 0:\n",
    "                    previous_frame = np.float32(frame)\n",
    "                else:\n",
    "                    current_frame = np.float32(frame)\n",
    "                    mask = two_frame_difference_mask(current_frame, previous_frame, distance, threshold)\n",
    "                    display_mask_and_change_image(mask, frame)\n",
    "                    clear_output(wait=True)\n",
    "                    previous_frame = current_frame\n",
    "                idx += 1\n",
    "\n",
    "    except KeyboardInterrupt:\n",
    "        # If we press stop (jupyter GUI) release the video\n",
    "        cap.release()\n",
    "        print(\"Released Video Resource\")\n",
    "\n",
    "play_mask_and_image_two_frames('LabSession5Images/video.avi', distance=np.inf, threshold=10)"
   ]
  },
  {
   "cell_type": "markdown",
   "metadata": {},
   "source": [
    "## Exercise 2: Three Frame Difference\n",
    "\n",
    "Calculate a Three Frame Difference over frames of a video to detect motion changes. Try different distance functions and visualize results. Test it on \"ex/1.avi\"."
   ]
  },
  {
   "cell_type": "code",
   "execution_count": 34,
   "metadata": {},
   "outputs": [
    {
     "name": "stdout",
     "output_type": "stream",
     "text": [
      "Released Video Resource\n"
     ]
    }
   ],
   "source": [
    "# Write your solution here\n",
    "def three_frame_difference_mask(img1, img2, img3, distance, threshold):\n",
    "    mask_1 = two_frame_difference_mask(img1, img2, distance, threshold)\n",
    "    mask_2 = two_frame_difference_mask(img2, img3, distance, threshold)\n",
    "    return np.logical_and(mask_1,mask_2)\n",
    "\n",
    "def play_mask_and_image_three_frames(video_path, distance, threshold):\n",
    "    cap = cv2.VideoCapture(video_path)\n",
    "    idx = 0\n",
    "    try:\n",
    "        while(cap.isOpened()):\n",
    "            ret, frame = cap.read()\n",
    "            if ret and not frame is None:\n",
    "                if idx == 0:\n",
    "                    frame_1 = np.float32(frame)\n",
    "                elif idx == 1:\n",
    "                    frame_2 = np.float32(frame)\n",
    "                else:\n",
    "                    frame_3 = np.float32(frame)\n",
    "                    mask = three_frame_difference_mask(frame_3, frame_2, frame_1, distance, threshold)\n",
    "                    display_mask_and_change_image(mask, frame)\n",
    "                    clear_output(wait=True)\n",
    "                    frame_1 = frame_2\n",
    "                    frame_2 = frame_3\n",
    "                idx += 1\n",
    "\n",
    "    except KeyboardInterrupt:\n",
    "        # If we press stop (jupyter GUI) release the video\n",
    "        cap.release()\n",
    "        print(\"Released Video Resource\")\n",
    "\n",
    "play_mask_and_image_three_frames('LabSession5Images/video.avi', distance=1, threshold=30)"
   ]
  },
  {
   "cell_type": "markdown",
   "metadata": {},
   "source": [
    "## Exercise 3: Background Subtraction\n",
    "\n",
    "Apply a background subtraction to all frames of a video to detect motion changes. \n",
    "\n",
    "To initialize a background image try:\n",
    "* Using only the first frame \n",
    "* Finding the mean or median over the first $n$ frames.\n",
    "\n",
    "Test it on \"ex/1.avi\"."
   ]
  },
  {
   "cell_type": "code",
   "execution_count": 24,
   "metadata": {},
   "outputs": [],
   "source": [
    "# Write your solution here\n",
    "# Find the background image\n",
    "def get_background_image_1frame(video_path):\n",
    "    cap = cv2.VideoCapture(video_path)\n",
    "    if cap.isOpened():\n",
    "        ret, frame = cap.read()\n",
    "    if ret and not frame is None:\n",
    "        return frame\n",
    "    else:\n",
    "        raise ValueError(\"Video is not valid\")\n",
    "    \n",
    "def get_background_image_nframe(video_path, n_frames, aggregation_method):\n",
    "    frames = []\n",
    "    cap = cv2.VideoCapture(video_path)\n",
    "    idx = 0\n",
    "    while(cap.isOpened() and idx<n_frames):\n",
    "        ret, frame = cap.read()\n",
    "        if ret and not frame is None:\n",
    "            frames.append(frame)\n",
    "            idx += 1\n",
    "        else:\n",
    "            raise ValueError(\"Video is not valid\")\n",
    "\n",
    "    frames = np.stack(frames, axis=-1)\n",
    "\n",
    "    if aggregation_method == \"mean\":\n",
    "        return np.mean(frames, axis=-1)\n",
    "    elif aggregation_method == \"median\":\n",
    "        return np.median(frames, axis=-1)\n",
    "    else:\n",
    "        raise NotImplementedError(\"Only mean and median are implemented aggregation methods\")\n",
    "\n"
   ]
  },
  {
   "cell_type": "code",
   "execution_count": 37,
   "metadata": {
    "scrolled": false
   },
   "outputs": [
    {
     "name": "stdout",
     "output_type": "stream",
     "text": [
      "Released Video Resource\n"
     ]
    }
   ],
   "source": [
    "# Write your solution here\n",
    "# Apply the background subtraction\n",
    "def play_mask_and_image_bckg_sub(video_path, bckg, distance, threshold):\n",
    "    cap = cv2.VideoCapture(video_path)\n",
    "\n",
    "    try:\n",
    "        while(cap.isOpened()):\n",
    "            ret, frame = cap.read()\n",
    "            if ret and not frame is None:\n",
    "                mask = two_frame_difference_mask(frame, bckg, distance, threshold)\n",
    "                display_mask_and_change_image(mask, frame)\n",
    "                clear_output(wait=True)\n",
    "\n",
    "    except KeyboardInterrupt:\n",
    "        # If we press stop (jupyter GUI) release the video\n",
    "        cap.release()\n",
    "        print(\"Released Video Resource\")\n",
    "\n",
    "\n",
    "bckg = get_background_image_1frame('LabSession5Images/video.avi')\n",
    "\n",
    "play_mask_and_image_bckg_sub('LabSession5Images/video.avi', bckg, distance=1, threshold=200)"
   ]
  },
  {
   "cell_type": "code",
   "execution_count": 38,
   "metadata": {},
   "outputs": [
    {
     "name": "stdout",
     "output_type": "stream",
     "text": [
      "Released Video Resource\n"
     ]
    },
    {
     "data": {
      "image/png": "[encoded data removed]",
      "text/plain": [
       "<Figure size 1000x500 with 1 Axes>"
      ]
     },
     "metadata": {},
     "output_type": "display_data"
    }
   ],
   "source": [
    "bckg = get_background_image_nframe('LabSession5Images/video.avi', 100, \"median\")\n",
    "\n",
    "play_mask_and_image_bckg_sub('LabSession5Images/video.avi', bckg, distance=1, threshold=200)\n"
   ]
  },
  {
   "cell_type": "markdown",
   "metadata": {},
   "source": [
    "## Exercise 4: Sobel Filter Frame-Wise\n",
    "\n",
    "Apply the Sobel kernels to calculate the smooth derivates $\\frac{dI(x, y)}{dx}$, $\\frac{dI(x, y)}{dy}$ along x and y respectively. Visualize the absolute value of the two results.\n",
    "Then, calculate the module of the gradient as $max(abs(\\frac{dI(x, y)}{dx}), abs(\\frac{dI(x, y)}{dy}))$. Do it for each frame of the video and visualize the results. Test it on \"ex/1.avi\"."
   ]
  },
  {
   "cell_type": "code",
   "execution_count": 39,
   "metadata": {},
   "outputs": [
    {
     "name": "stdout",
     "output_type": "stream",
     "text": [
      "Released Video Resource\n"
     ]
    },
    {
     "data": {
      "text/plain": [
       "<Figure size 640x480 with 0 Axes>"
      ]
     },
     "metadata": {},
     "output_type": "display_data"
    }
   ],
   "source": [
    "# Write your solution here\n",
    "\n",
    "def get_edges_sobels(img):\n",
    "    sobel_ker = np.array([[-1,0,1],[-2,0,2],[-1,0,1]])/4\n",
    "\n",
    "    dIdx = cv2.filter2D(np.float32(img), -1, sobel_ker, (-1,-1))\n",
    "    dIdy = cv2.filter2D(np.float32(img), -1, sobel_ker.T, (-1,-1))\n",
    "\n",
    "    dIdx = np.sum(dIdx, axis=-1)\n",
    "    dIdy = np.sum(dIdy, axis=-1)\n",
    "\n",
    "    dIdx_module = np.abs(dIdx)\n",
    "    dIdy_module = np.abs(dIdy)\n",
    "\n",
    "    return np.maximum(dIdx_module, dIdy_module)\n",
    "\n",
    "\n",
    "def play_video_edges(video_path):\n",
    "    cap = cv2.VideoCapture(video_path)\n",
    "\n",
    "    try:\n",
    "        while(cap.isOpened()):\n",
    "            ret, frame = cap.read()\n",
    "            if ret and not frame is None:\n",
    "                frame = get_edges_sobels(frame)\n",
    "                plt.axis('off')\n",
    "                plt.imshow(frame, cmap=\"gray\", vmin=0, vmax=256)\n",
    "                plt.show()\n",
    "                clear_output(wait=True)\n",
    "            else:\n",
    "                cap.release()\n",
    "                print(\"Released Video Resource because ret=False\")\n",
    "                # Break exit the while loops\n",
    "                break\n",
    "\n",
    "    except KeyboardInterrupt:\n",
    "        # If we press stop (jupyter GUI) release the video\n",
    "        cap.release()\n",
    "        print(\"Released Video Resource\")\n",
    "\n",
    "play_video_edges('LabSession5Images/video.avi')"
   ]
  }
 ],
 "metadata": {
  "kernelspec": {
   "display_name": "env-3.7.16",
   "language": "python",
   "name": "python3"
  },
  "language_info": {
   "codemirror_mode": {
    "name": "ipython",
    "version": 3
   },
   "file_extension": ".py",
   "mimetype": "text/x-python",
   "name": "python",
   "nbconvert_exporter": "python",
   "pygments_lexer": "ipython3",
   "version": "3.7.16"
  },
  "vscode": {
   "interpreter": {
    "hash": "29f32bed21a42699808201b43d0eead14edbd22a7ed3f1cb678382ea0ed635d4"
   }
  }
 },
 "nbformat": 4,
 "nbformat_minor": 2
}
