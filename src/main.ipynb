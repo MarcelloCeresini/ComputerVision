{
 "cells": [
  {
   "cell_type": "code",
   "execution_count": 2,
   "metadata": {},
   "outputs": [],
   "source": [
    "# GENERAL IMPORTS\n",
    "import cv2\n",
    "from matplotlib import pyplot as plt\n",
    "import numpy as np\n",
    "# from pprint import pprint\n",
    "# from collections import deque\n",
    "\n",
    "# FILE IMPORTS\n",
    "from config_file import Config"
   ]
  },
  {
   "cell_type": "code",
   "execution_count": null,
   "metadata": {},
   "outputs": [],
   "source": [
    "def check_img_channels(img1, img2) -> bool:\n",
    "    if len(img1.shape) != len(img2.shape):\n",
    "        raise ValueError(\"The two images mush have the same numbero of channels: img1 shape = {} and img2 shape = {}\".format(img1.shape, img2.shape))\n",
    "    elif len(img1.shape) == 3:\n",
    "        if img1.shape[-1] == 3:\n",
    "            rgb_flag = True\n",
    "        elif img1.shape[-1] == 1:\n",
    "            rgb_flag = False\n",
    "        else:\n",
    "            raise ValueError(\"The images can either have 3 channels (RGB) or 1 (grayscale): # of channels of img1 = {}\".format(img1.shape[-1]))\n",
    "        \n",
    "    return rgb_flag\n",
    "\n",
    "\n",
    "def SAD(img1, img2, search_area, k, disparity_range) -> float:\n",
    "    # compute the Sum of Absolute Distances between intensities of the two images\n",
    "    # in disparity map computation you only need to compare the left pixel (and patch around it) with an horizontal segment in the right image (the disparity_range)\n",
    "    i_min, i_max, j_min, j_max = search_area    \n",
    "\n",
    "    disparity_map = np.zeros((i_max-i_min, j_max-j_min, len(disparity_range)))\n",
    "\n",
    "    rgb_flag = check_img_channels(img1, img2)\n",
    "\n",
    "    h, w = img1.shape[:2]\n",
    "    for i in h:\n",
    "        for j in w:\n",
    "\n",
    "            for d in disparity_range:\n",
    "                \n",
    "                if rgb_flag:\n",
    "                    window1 = img1[i-k:i+k+1, j-k:j+k+1,            :]\n",
    "                    window2 = img1[i-k:i+k+1, (j+d)-k:(j+d)+k+1,    :]\n",
    "\n",
    "                else:\n",
    "                    window1 = img1[i-k:i+k+1, j-k:j+k+1]\n",
    "                    window2 = img1[i-k:i+k+1, (j+d)-k:(j+d)+k+1]\n",
    "\n",
    "                disparity_map[i, j, d] = np.sum(np.abs(window1 - window2))\n",
    "    \n",
    "    return np.max(disparity_map, axis=-1)\n",
    "\n"
   ]
  }
 ],
 "metadata": {
  "kernelspec": {
   "display_name": "Python 3",
   "language": "python",
   "name": "python3"
  },
  "language_info": {
   "codemirror_mode": {
    "name": "ipython",
    "version": 3
   },
   "file_extension": ".py",
   "mimetype": "text/x-python",
   "name": "python",
   "nbconvert_exporter": "python",
   "pygments_lexer": "ipython3",
   "version": "3.7.16"
  },
  "orig_nbformat": 4,
  "vscode": {
   "interpreter": {
    "hash": "4841121e456b7e35fdb0dd8744172fdaa130804922953290e4058bc7a140613d"
   }
  }
 },
 "nbformat": 4,
 "nbformat_minor": 2
}
